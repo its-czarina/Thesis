{
 "cells": [
  {
   "cell_type": "code",
   "execution_count": null,
   "metadata": {
    "collapsed": true
   },
   "outputs": [],
   "source": [
    "feed = \"\"\n",
    "if i == 1:\n",
    "    feed = feedparser.parse(url+'/rss')\n",
    "else:\n",
    "    print(str(i))\n",
    "    feed = feedparser.parse(url+'/page/'+str(i)+'/rss')"
   ]
  }
 ],
 "metadata": {
  "kernelspec": {
   "display_name": "Python 2",
   "language": "python",
   "name": "python2"
  }
 },
 "nbformat": 4,
 "nbformat_minor": 0
}
